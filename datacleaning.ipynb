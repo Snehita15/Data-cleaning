{
 "cells": [
  {
   "cell_type": "code",
   "execution_count": 21,
   "id": "84be2151-21ed-41a6-b146-729ae9cab1d4",
   "metadata": {},
   "outputs": [
    {
     "name": "stdout",
     "output_type": "stream",
     "text": [
      "Data cleaning complete. Cleaned file saved as 'cleaned_dataset.csv'.\n"
     ]
    }
   ],
   "source": [
    "import pandas as pd\n",
    "import numpy as np\n",
    "from scipy import stats\n",
    "\n",
    "class DataCleaner:\n",
    "    def __init__(self, df):  # Corrected constructor\n",
    "        self.df = df.copy()\n",
    "\n",
    "    def handle_missing_values(self, method='mean'):\n",
    "        for column in self.df.columns:\n",
    "            if self.df[column].isnull().sum() > 0:\n",
    "                if self.df[column].dtype in ['float64', 'int64']:\n",
    "                    if method == 'mean':\n",
    "                        self.df[column].fillna(self.df[column].mean(), inplace=True)\n",
    "                    elif method == 'median':\n",
    "                        self.df[column].fillna(self.df[column].median(), inplace=True)\n",
    "                    elif method == 'mode':\n",
    "                        self.df[column].fillna(self.df[column].mode()[0], inplace=True)\n",
    "                else:\n",
    "                    self.df[column].fillna(self.df[column].mode()[0], inplace=True)\n",
    "        return self.df\n",
    "\n",
    "    def remove_duplicates(self):\n",
    "        self.df.drop_duplicates(inplace=True)\n",
    "        return self.df\n",
    "\n",
    "    def detect_and_handle_outliers(self, method='zscore', threshold=3):\n",
    "        numeric_cols = self.df.select_dtypes(include=[np.number]).columns\n",
    "        if method == 'zscore':\n",
    "            z_scores = np.abs(stats.zscore(self.df[numeric_cols]))\n",
    "            self.df = self.df[(z_scores < threshold).all(axis=1)]\n",
    "        elif method == 'iqr':\n",
    "            Q1 = self.df[numeric_cols].quantile(0.25)\n",
    "            Q3 = self.df[numeric_cols].quantile(0.75)\n",
    "            IQR = Q3 - Q1\n",
    "            self.df = self.df[~((self.df[numeric_cols] < (Q1 - 1.5 * IQR)) |\n",
    "                                (self.df[numeric_cols] > (Q3 + 1.5 * IQR))).any(axis=1)]\n",
    "        return self.df\n",
    "    def get_cleaned_data(self):\n",
    "        return self.df\n",
    "\n",
    "\n",
    "# Example usage\n",
    "if __name__ == \"__main__\":  # Corrected module check\n",
    "    dataset_path = \"iris.csv\"\n",
    "    df = pd.read_csv(dataset_path)\n",
    "    cleaner = DataCleaner(df)\n",
    "    cleaner.handle_missing_values(method='mean')\n",
    "    cleaner.remove_duplicates()\n",
    "    cleaner.detect_and_handle_outliers(method='zscore')\n",
    "    cleaned_df = cleaner.get_cleaned_data()\n",
    "    cleaned_df.to_csv(\"cleaned_dataset.csv\", index=False)\n",
    "    print(\"Data cleaning complete. Cleaned file saved as 'cleaned_dataset.csv'.\")"
   ]
  },
  {
   "cell_type": "code",
   "execution_count": null,
   "id": "6cb90111-7be4-4332-a5ce-25b47556f54f",
   "metadata": {},
   "outputs": [],
   "source": []
  }
 ],
 "metadata": {
  "kernelspec": {
   "display_name": "Python 3 (ipykernel)",
   "language": "python",
   "name": "python3"
  },
  "language_info": {
   "codemirror_mode": {
    "name": "ipython",
    "version": 3
   },
   "file_extension": ".py",
   "mimetype": "text/x-python",
   "name": "python",
   "nbconvert_exporter": "python",
   "pygments_lexer": "ipython3",
   "version": "3.12.4"
  }
 },
 "nbformat": 4,
 "nbformat_minor": 5
}
